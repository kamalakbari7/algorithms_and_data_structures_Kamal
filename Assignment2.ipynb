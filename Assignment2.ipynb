{
 "cells": [
  {
   "cell_type": "markdown",
   "metadata": {},
   "source": []
  },
  {
   "cell_type": "code",
   "execution_count": 2,
   "metadata": {},
   "outputs": [],
   "source": [
    "import timeit\n",
    "import random\n",
    "from typing import List"
   ]
  },
  {
   "cell_type": "markdown",
   "metadata": {},
   "source": [
    "### Part 1"
   ]
  },
  {
   "cell_type": "markdown",
   "metadata": {},
   "source": [
    "This is the review for assignment 1 done with my partner `Eliezer`. "
   ]
  },
  {
   "cell_type": "markdown",
   "metadata": {},
   "source": [
    "### Part 2"
   ]
  },
  {
   "cell_type": "markdown",
   "metadata": {},
   "source": [
    "### 1. Paraphrase the problem in your own words."
   ]
  },
  {
   "cell_type": "markdown",
   "metadata": {},
   "source": [
    "This question is seraching for the root to leaf paths for a given roots of a binary tree. It needs to return list of lists for whole tree where lists inside the list refers to the paths. \n",
    " "
   ]
  },
  {
   "cell_type": "markdown",
   "metadata": {},
   "source": [
    "### 2. Create 1 new example that demonstrates you understand the problem. Trace/walkthrough 1 example that your partner made and explain it."
   ]
  },
  {
   "cell_type": "code",
   "execution_count": 3,
   "metadata": {},
   "outputs": [
    {
     "data": {
      "text/plain": [
       "'\\nSuppose we have the following tree\\n\\n      5\\n    /      3      4\\n /  \\\\    / 6    7  8   9\\n\\n'"
      ]
     },
     "execution_count": 3,
     "metadata": {},
     "output_type": "execute_result"
    }
   ],
   "source": [
    "'''\n",
    "Suppose we have the following tree\n",
    "\n",
    "       5\n",
    "    /    \\\n",
    "   3      4\n",
    " /  \\    / \\\n",
    "6    7  8   9\n",
    "\n",
    "'''\n",
    "\n",
    "# tree = [5,3,4,6,7,8,9]\n",
    "\n",
    "# paths = [[5,3,6],[5,3,7],[5,4,8],[5,4,9]]"
   ]
  },
  {
   "cell_type": "markdown",
   "metadata": {},
   "source": [
    "### 3. Copy the solution your partner wrote."
   ]
  },
  {
   "cell_type": "code",
   "execution_count": 6,
   "metadata": {},
   "outputs": [
    {
     "name": "stdout",
     "output_type": "stream",
     "text": [
      "[[1, 2, 3], [1, 2, 5], [1, 2, 6], [1, 2, 7]]\n"
     ]
    }
   ],
   "source": [
    "class TreeNode:\n",
    "    def __init__(self, val=0, left=None, right=None):\n",
    "        self.val = val\n",
    "        self.left = left\n",
    "        self.right = right\n",
    "\n",
    "# Create an extra function in order to distribute the root values\n",
    "def insertLevelOrder(arr, root, i, n):\n",
    "    # Base case for recursion\n",
    "    if i < n:\n",
    "        temp = TreeNode(arr[i])\n",
    "        root = temp\n",
    "\n",
    "        # insert left child\n",
    "        root.left = insertLevelOrder(arr, root.left, 2 * i + 1, n)\n",
    "\n",
    "        # insert right child\n",
    "        root.right = insertLevelOrder(arr, root.right, 2 * i + 2, n)\n",
    "    return root\n",
    "\n",
    "# Create the function use the started code provided as base\n",
    "def bt_path(root: TreeNode) -> List[List[int]]:\n",
    "    if not root:\n",
    "        return []\n",
    "\n",
    "    paths = []\n",
    "\n",
    "    def find_paths(node, current_path):\n",
    "        if node:\n",
    "            # Append the current node's value to the path\n",
    "            current_path.append(node.val)\n",
    "\n",
    "            # If it's a leaf node, add the path to the paths list\n",
    "            if not node.left and not node.right:\n",
    "                paths.append(list(current_path))\n",
    "            else:\n",
    "                find_paths(node.left, current_path)\n",
    "                find_paths(node.right, current_path)\n",
    "\n",
    "            # Backtrack to explore other paths\n",
    "            current_path.pop()\n",
    "\n",
    "    find_paths(root, [])\n",
    "    return paths\n",
    "\n",
    "# Insert the root provided in the q2.md file to confirm output\n",
    "arr = [1, 2, 2, 3, 5, 6, 7]\n",
    "n = len(arr)\n",
    "\n",
    "# Configure insertLevelOrder function\n",
    "root = None\n",
    "root = insertLevelOrder(arr, root, 0, n)\n",
    "\n",
    "# Call the bt_path function and print paths\n",
    "print(bt_path(root))"
   ]
  },
  {
   "cell_type": "code",
   "execution_count": 7,
   "metadata": {},
   "outputs": [
    {
     "name": "stdout",
     "output_type": "stream",
     "text": [
      "[[2, 3, 6], [2, 3, 9], [2, 4]]\n"
     ]
    }
   ],
   "source": [
    "# Check to see if code runs successfully\n",
    "\n",
    "# Given another root, which is my own example provided above\n",
    "arr = [2, 3, 4, 6, 9]\n",
    "n = len(arr)\n",
    "root = None\n",
    "root = insertLevelOrder(arr, root, 0, n)\n",
    "\n",
    "# Call the bt_path function and print paths\n",
    "print(bt_path(root))"
   ]
  },
  {
   "cell_type": "markdown",
   "metadata": {},
   "source": [
    "### 4. Explain why their solution works in your own words."
   ]
  },
  {
   "cell_type": "markdown",
   "metadata": {},
   "source": [
    "Eliezer's solution works great because the `insertLevelOrder` function ensures the binary tree is constructed accurately from the list, following level order. This means the tree structure reflects the input list's structure, assuming the list represents a complete binary tree. In the next step, the `find_paths` function traverses the tree using depth-first search (DFS). Exploring all branches (left and right subtrees) and backtracking after reaching leaf nodes guarantees that all root-to-leaf paths are found and recorded. In the end, Eliezer uses `backtracking` to add and then remove nodes from the current path. This part ensures that the `current_path` list accurately represents the path from the root to the current node at any point in the recursion. This way, when a leaf node is reached, `current_path` contains the path from the root to that leaf."
   ]
  },
  {
   "cell_type": "markdown",
   "metadata": {},
   "source": [
    "### 5. Explain the problem’s time and space complexity in your own words."
   ]
  },
  {
   "cell_type": "markdown",
   "metadata": {},
   "source": [
    "The time complexity of Eliezer's solution is `O(n)` because it creates the tree from a level order traversal for forming the `n` number of nodes in the tree. Also, it iterates through the list once to create all nodes and set their left and right children. Then, because of using the `Depth-First Search (DFS)` traversal of the tree, in the worst case, it visits each node exactly once, which gives a time complexity of `O(n)`.\n",
    "Eliezer's solution has a space complexity of `O(n)` because, based on the recursive DFS to find all paths, the maximum depth of the recursion call stack can be equal to the height of the tree, which, in the worst case, can be `O(n)`."
   ]
  },
  {
   "cell_type": "markdown",
   "metadata": {},
   "source": [
    "### 6. Critique your partner's solution, including explanation, if there is anything should be adjusted."
   ]
  },
  {
   "cell_type": "markdown",
   "metadata": {},
   "source": [
    "I found Eliezer's solution optimized for tree construction and finding paths. The tree construction method in this solution is straightforward and correctly builds the binary tree from a given array. The algorithm for finding root-to-leaf paths is efficient because it visits each node exactly once, but it could be considered slightly inefficient in terms of space because it creates a new list for every path found. \n",
    "\n",
    "Potential adjustments for Eliezer's solution can be:\n",
    "Instead of appending the current path to a list of paths at each leaf node, an alternative approach could involve using a global list to store paths and a temporary list to store the current path. This approach would still require copying the current path list when a leaf is reached, but it's a minor optimization that clarifies the intention of storing completed paths separately.\n",
    "While Eliezer's recursive method for constructing the tree is intelligent and straightforward, an iterative queue approach could be more intuitive and align more closely with the level-order traversal concept. \n",
    "The recursive depth-first search approach for finding paths is optimal in terms of ensuring that all paths are explored. However, the recursion could lead to a large call stack in extremely deep trees. An iterative stack approach could be considered, though it would complicate the logic for managing the current path state.\n",
    "\n",
    "In conclusion, Eliezer's solution is effective and demonstrates a good understanding of binary trees, level-order construction, and depth-first search for pathfinding. "
   ]
  },
  {
   "cell_type": "markdown",
   "metadata": {},
   "source": [
    "### Part 3: Reflection"
   ]
  },
  {
   "cell_type": "markdown",
   "metadata": {},
   "source": [
    "Undertaking Assignment 1 was a significant leap in my journey of understanding complex problem-solving techniques. This project involved identifying missing numbers in a given range. The first step was to analyze the problem statement in detail. I spent time understanding the solution to the task, which involved identifying missing elements in a specified range of integers. To solve this problem, I revisited fundamental concepts in the lectures and Python, such as list manipulation, loops, and conditional statements, through various online resources and documentation.\n",
    "Developing the solution was iterative and involved testing different strategies. I explored algorithms that could handle the problem's constraints more elegantly, such as utilizing arrays to identify missing numbers for faster processes.\n",
    "\n",
    "Reviewing my partner's assignment were invaluable, and being familiar with his process and solution helped me gain new perspectives on solving problems related to binary trees. It was informative to see how my partner Eliezer could tackle the problem, underscoring the diversity of problem-solving in programming. This peer review enhanced my ability to evaluate a solution critically.\n",
    "These two assignments were not just about finding missing numbers or evaluating another person's solution; they were comprehensive analytical thinking, problem-solving, and collaborative learning exercises.\n",
    "\n",
    "Thanks to `Salaar, Tina, and Eliezer` for making this valuable experience possible."
   ]
  },
  {
   "cell_type": "code",
   "execution_count": null,
   "metadata": {},
   "outputs": [],
   "source": []
  }
 ],
 "metadata": {
  "kernelspec": {
   "display_name": "pysal",
   "language": "python",
   "name": "python3"
  },
  "language_info": {
   "codemirror_mode": {
    "name": "ipython",
    "version": 3
   },
   "file_extension": ".py",
   "mimetype": "text/x-python",
   "name": "python",
   "nbconvert_exporter": "python",
   "pygments_lexer": "ipython3",
   "version": "3.9.16"
  }
 },
 "nbformat": 4,
 "nbformat_minor": 2
}

{
 "cells": [
  {
   "cell_type": "code",
   "execution_count": 3,
   "metadata": {},
   "outputs": [],
   "source": [
    "import numpy as np\n",
    "import pandas as pd"
   ]
  },
  {
   "cell_type": "markdown",
   "metadata": {},
   "source": [
    "### Finding allocated question"
   ]
  },
  {
   "cell_type": "code",
   "execution_count": 1,
   "metadata": {},
   "outputs": [
    {
     "data": {
      "text/plain": [
       "3"
      ]
     },
     "execution_count": 1,
     "metadata": {},
     "output_type": "execute_result"
    }
   ],
   "source": [
    "(hash('Kamal')%3)+1"
   ]
  },
  {
   "cell_type": "markdown",
   "metadata": {},
   "source": [
    "#### Paraphrase the problem in your own words"
   ]
  },
  {
   "cell_type": "markdown",
   "metadata": {},
   "source": [
    "\n",
    "This is a question for finding the missing integer values in the range of 0 to the maximum value of a given list. Based on the explanations for q3 and provided examples, the problem hypothesises that the `given list` is part of the `bigger list with integer members between 0 to the maximum value of a given list`. We want to find integer values from the `bigger list` that are not in the `given list`."
   ]
  },
  {
   "cell_type": "code",
   "execution_count": null,
   "metadata": {},
   "outputs": [],
   "source": []
  },
  {
   "cell_type": "markdown",
   "metadata": {},
   "source": [
    "#### In the .md file containing your problem, there are examples that illustrate how the code should work. Create 2 new examples that demonstrate you understand the problem."
   ]
  },
  {
   "cell_type": "code",
   "execution_count": 2,
   "metadata": {},
   "outputs": [],
   "source": [
    "# example 1\n",
    "list = [1,2,7,3,11,9,6]\n",
    "output = [0,4,5,8,10]"
   ]
  },
  {
   "cell_type": "code",
   "execution_count": null,
   "metadata": {},
   "outputs": [],
   "source": [
    "# example 2\n",
    "list = [8,9]\n",
    "output = [0,1,2,3,4,5,6,7]"
   ]
  },
  {
   "cell_type": "markdown",
   "metadata": {},
   "source": [
    "\n",
    "#### Code the solution to your assigned problem in Python (code chunk). Try to find the best time and space complexity solution!"
   ]
  },
  {
   "cell_type": "markdown",
   "metadata": {},
   "source": [
    "#### First solution"
   ]
  },
  {
   "cell_type": "code",
   "execution_count": 71,
   "metadata": {},
   "outputs": [],
   "source": [
    "\n",
    "def missing_num1(lst) -> int:\n",
    "    if lst:\n",
    "        output = []\n",
    "        for i in range(0,max(lst)+1):  #O(n)\n",
    "            if i not in lst:           #O(n)\n",
    "                output.append(i)     #O(1)\n",
    "        \n",
    "        if not output:             #O(1)\n",
    "            return -1\n",
    "        \n",
    "        return output     \n",
    "\n",
    "    else:\n",
    "        raise AssertionError('input list is empty')  \n",
    "\n",
    "\n",
    "\n",
    "# Time complexity is O(n^2)\n",
    "# Space complexity is O(n)"
   ]
  },
  {
   "cell_type": "code",
   "execution_count": 73,
   "metadata": {},
   "outputs": [
    {
     "name": "stdout",
     "output_type": "stream",
     "text": [
      "CPU times: user 2 µs, sys: 0 ns, total: 2 µs\n",
      "Wall time: 5.01 µs\n"
     ]
    },
    {
     "data": {
      "text/plain": [
       "[0, 4, 5, 12, 13, 14, 15, 16, 17, 18, 19]"
      ]
     },
     "execution_count": 73,
     "metadata": {},
     "output_type": "execute_result"
    }
   ],
   "source": [
    "%time\n",
    "l1 = [1,2,7,7,3,20,9,6,8,10,7,3,11,9,1,2,7,7,3,20,9,6,8,10,7,3,11,9,1,2,7,7,3,20,9,6,8,10,7,3,11,9] \n",
    "missing_num1(l1)"
   ]
  },
  {
   "cell_type": "code",
   "execution_count": 52,
   "metadata": {},
   "outputs": [
    {
     "data": {
      "text/plain": [
       "-1"
      ]
     },
     "execution_count": 52,
     "metadata": {},
     "output_type": "execute_result"
    }
   ],
   "source": [
    "l2 = [0,1,2,4,5,8,10,7,3,11,9,6] \n",
    "missing_num1(l2)"
   ]
  },
  {
   "cell_type": "markdown",
   "metadata": {},
   "source": [
    "#### Second solution"
   ]
  },
  {
   "cell_type": "code",
   "execution_count": 74,
   "metadata": {},
   "outputs": [],
   "source": [
    "def missing_num2(lst) -> int:\n",
    "    if lst:\n",
    "        rlst = np.arange(0,max(lst)+1,1)    #O(n)\n",
    "        lst = np.array(lst)                 #O(n)\n",
    "\n",
    "        diff = np.setdiff1d(rlst,lst).tolist() # O(nlog(n)) becuase setdiff1d needs to sort arrays and \n",
    "        \n",
    "        if not diff:\n",
    "            return -1\n",
    "        \n",
    "        return diff  #O(m) m<n\n",
    "\n",
    "    else:\n",
    "        raise AssertionError('input list is empty')\n",
    "\n",
    "\n",
    "# Time complexity is O(nlog(n))\n",
    "# Space complexity is O(m) ~ O(n)"
   ]
  },
  {
   "cell_type": "code",
   "execution_count": 76,
   "metadata": {},
   "outputs": [
    {
     "name": "stdout",
     "output_type": "stream",
     "text": [
      "CPU times: user 1 µs, sys: 0 ns, total: 1 µs\n",
      "Wall time: 3.1 µs\n"
     ]
    },
    {
     "data": {
      "text/plain": [
       "[0, 4, 5, 12, 13, 14, 15, 16, 17, 18, 19]"
      ]
     },
     "execution_count": 76,
     "metadata": {},
     "output_type": "execute_result"
    }
   ],
   "source": [
    "%time\n",
    "l1 = [1,2,7,7,3,20,9,6,8,10,7,3,11,9,1,2,7,7,3,20,9,6,8,10,7,3,11,9,1,2,7,7,3,20,9,6,8,10,7,3,11,9] \n",
    "missing_num2(l1)"
   ]
  },
  {
   "cell_type": "code",
   "execution_count": null,
   "metadata": {},
   "outputs": [],
   "source": []
  },
  {
   "cell_type": "markdown",
   "metadata": {},
   "source": [
    "#### Explain why your solution works"
   ]
  },
  {
   "cell_type": "markdown",
   "metadata": {},
   "source": [
    "Both missing_num1 and missing_num2 are methods to find missing numbers in a list within a specified range. \n",
    "\n",
    "- `missing_num1` method iterates through a range of numbers expected to be in the list (from `0` to `max(lst)`), checking for the presence of each number in the input list. Since it checks for the presence of each number within the entire range of values that should be in the list, it can accurately identify which numbers are missing. The method can be inefficient for large lists due to its `O(n^2)` time complexity.\n",
    "\n",
    "- `missing_num2` method uses NumPy's `np.arange` to generate a complete range array from `0` to `max(lst)`, and then uses `np.setdiff1d` to find the set difference between this range array and the input list, effectively identifying missing numbers. `np.setdiff1d` computes the difference between this complete range and the actual numbers in the list, determining exactly which numbers are missing. It can be more efficient than `missing_num1` regarding execution time for larger lists. The time complexity comes from sorting operations within np.setdiff1d, generally `O(nlogn)`, making it suitable for large datasets."
   ]
  },
  {
   "cell_type": "code",
   "execution_count": null,
   "metadata": {},
   "outputs": [],
   "source": []
  },
  {
   "cell_type": "markdown",
   "metadata": {},
   "source": [
    "#### Explain the problem’s and space complexity"
   ]
  },
  {
   "cell_type": "markdown",
   "metadata": {},
   "source": [
    "The time and space complexity of these two methods are:\n",
    "\n",
    "\n",
    "- The time complexity of `missing_num1` is `O(n^2)` becuse of using `for loop` and `if function` for searching missing integers. Its space complexity is `O(m)` becuase the output is a list with m members that it is less than n. However we can assume that the space complexity for this method is `O(n)`.\n",
    "\n",
    "- Becase `missing_num2` method uses NumPy's `np.setdiff1d` function to find the missing integers, its time complexity is `O(nlogn)`. Similarly, its space complexity is `O(m)` becuase the output is a list with m members that it is less than n."
   ]
  },
  {
   "cell_type": "code",
   "execution_count": null,
   "metadata": {},
   "outputs": [],
   "source": []
  },
  {
   "cell_type": "markdown",
   "metadata": {},
   "source": [
    "#### Explain the thinking to an alternative solution (no coding required, but a classmate reading this should be able to code it up based off your text)"
   ]
  },
  {
   "cell_type": "markdown",
   "metadata": {},
   "source": [
    "Follow these steps to implement the alternative solution for finding missing numbers in a given list. \n",
    "\n",
    "- First, check if the `input list` is empty. If the input list is empty, the function immediately raises an error indicating that the `input list` is empty. \n",
    "- Use NumPy's `arange function` to create an array with values between `0` and the maximum value in the input list plus one and with step=1.\n",
    "- To have an efficient execution of array operations, convert the original input list to a NumPy array. \n",
    "- In this step, use the `setdiff1d function` from NumPy to find the difference between `the array generated in step 2` and `the input list array`. \n",
    "- Here, you need to convert the resulting array of missing numbers to a Python list. \n",
    "- Then, you need to check whether the list of missing numbers is empty. If it is empty, your function should return `-1` to indicate no missing numbers. Otherwise, return the list of missing numbers."
   ]
  },
  {
   "cell_type": "markdown",
   "metadata": {},
   "source": []
  }
 ],
 "metadata": {
  "kernelspec": {
   "display_name": "pysal",
   "language": "python",
   "name": "python3"
  },
  "language_info": {
   "codemirror_mode": {
    "name": "ipython",
    "version": 3
   },
   "file_extension": ".py",
   "mimetype": "text/x-python",
   "name": "python",
   "nbconvert_exporter": "python",
   "pygments_lexer": "ipython3",
   "version": "3.9.16"
  }
 },
 "nbformat": 4,
 "nbformat_minor": 2
}
